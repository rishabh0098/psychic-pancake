{
  "nbformat": 4,
  "nbformat_minor": 0,
  "metadata": {
    "colab": {
      "provenance": [],
      "authorship_tag": "ABX9TyMbC0fBclbrFzLP7aX1zrwM"
    },
    "kernelspec": {
      "name": "python3",
      "display_name": "Python 3"
    },
    "language_info": {
      "name": "python"
    }
  },
  "cells": [
    {
      "cell_type": "code",
      "execution_count": null,
      "metadata": {
        "id": "avLEGykc0IUU"
      },
      "outputs": [],
      "source": [
        "# Importing necessary libraries\n",
        "import numpy as np\n",
        "import matplotlib.pyplot as plt\n",
        "from sklearn.metrics import accuracy_score\n",
        "from sklearn.model_selection import train_test_split\n",
        "from sklearn.datasets import fetch_openml"
      ]
    },
    {
      "cell_type": "code",
      "source": [
        "# Load the MNIST dataset\n",
        "X, y = fetch_openml('mnist_784', version=1, return_X_y=True)"
      ],
      "metadata": {
        "id": "89-6pmf9I59d"
      },
      "execution_count": null,
      "outputs": []
    },
    {
      "cell_type": "code",
      "source": [
        "# Normalise pixel values to be between 0 and 1\n",
        "X = X / 255.0"
      ],
      "metadata": {
        "id": "liGw_e5eLVRM"
      },
      "execution_count": null,
      "outputs": []
    },
    {
      "cell_type": "code",
      "source": [
        "# Convert labels to one hot encoding\n",
        "num_classes = 10\n",
        "y = np.eye(num_classes)[y.astype(int)]"
      ],
      "metadata": {
        "id": "U2NERh_ilIzK"
      },
      "execution_count": null,
      "outputs": []
    },
    {
      "cell_type": "code",
      "source": [
        "# Split the data into training and test sets\n",
        "X_train, X_test, y_train, y_test = train_test_split(X, y, test_size=0.2, random_state=42)"
      ],
      "metadata": {
        "id": "ROAo0ICMvP_L"
      },
      "execution_count": null,
      "outputs": []
    },
    {
      "cell_type": "code",
      "source": [
        "# Define the sigmoid activation function\n",
        "def sigmoid(x):\n",
        "  return 1 / (1 + np.exp(-x))"
      ],
      "metadata": {
        "id": "-6bxpBV4p1_G"
      },
      "execution_count": null,
      "outputs": []
    },
    {
      "cell_type": "code",
      "source": [
        "# Define the sigmoid derivative\n",
        "def sigmoid_derivative(x):\n",
        "  return sigmoid(x) * (1 - sigmoid(x))"
      ],
      "metadata": {
        "id": "rK-v_YOJqzkv"
      },
      "execution_count": null,
      "outputs": []
    },
    {
      "cell_type": "code",
      "source": [
        "# Define the neural network architecture\n",
        "class NeuralNetwork:\n",
        "  def __init__(self, input_size, hidden_size, output_size):\n",
        "    # Initialize weights with random values\n",
        "    self.weights1 = np.random.randn(input_size, hidden_size)\n",
        "    self.weights2 = np.random.randn(hidden_size, output_size)\n",
        "    self.bias1 = np.zeros((1, hidden_size))\n",
        "    self.bias2 = np.zeros((1, output_size))\n",
        "\n",
        "  def feedforward(self, X):\n",
        "    # Calculate the activations of the hidden layer\n",
        "    hidden_layer_activation = np.dot(X, self.weights1) + self.bias1\n",
        "    hidden_layer_output = sigmoid(hidden_layer_activation)\n",
        "\n",
        "    # Calculate the output layer activation\n",
        "    output_layer_activation = np.dot(hidden_layer_output, self.weights2) + self.bias2\n",
        "    output_layer_output = sigmoid(output_layer_activation)\n",
        "\n",
        "    return hidden_layer_output, output_layer_output\n",
        "\n",
        "  def backpropagation(self, X, y, hidden_layer_output, output_layer_output, learning_rate):\n",
        "    # Calculate the error at the output layer\n",
        "    output_error = output_layer_output - y\n",
        "\n",
        "    # Calculate the slope of the output layer\n",
        "    output_delta = output_error * sigmoid_derivative(output_layer_output)\n",
        "\n",
        "    # Calculate the error at the hidden layer\n",
        "    hidden_layer_error = output_delta.dot(self.weights2.T)\n",
        "\n",
        "    # Calculate the slope of the hidden layer\n",
        "    hidden_layer_delta = hidden_layer_error * sigmoid_derivative(hidden_layer_output)\n",
        "\n",
        "    # Update weights and biases\n",
        "    self.weights2 -= learning_rate * hidden_layer_output.T.dot(output_delta)\n",
        "    self.bias2 -= learning_rate * np.sum(output_delta, axis=0, keepdims=True)\n",
        "    self.weights1 -= learning_rate * X.T.dot(hidden_layer_delta)\n",
        "    self.bias1 -= learning_rate * np.sum(hidden_layer_delta, axis=0, keepdims=True)\n",
        "\n",
        "  def train(self, X_train, y_train, epochs, learning_rate):\n",
        "        for epoch in range(epochs):\n",
        "            for i in range(len(X_train)):\n",
        "                # Forward pass\n",
        "                hidden_layer_output, output_layer_output = self.feedforward(X_train[i:i+1])\n",
        "\n",
        "                # Backward pass\n",
        "                self.backpropagation(X_train[i:i+1], y_train[i:i+1], hidden_layer_output, output_layer_output, learning_rate)\n",
        "\n",
        "            # Print progress\n",
        "            if (epoch + 1) % 10 == 0:\n",
        "                print(f\"Epoch {epoch+1}/{epochs}\")\n",
        "\n",
        "  def predict(self, X_test):\n",
        "      _, output_layer_output = self.feedforward(X_test)\n",
        "      return np.argmax(output_layer_output, axis=1)"
      ],
      "metadata": {
        "id": "IDSAB4NCv6PB"
      },
      "execution_count": null,
      "outputs": []
    },
    {
      "cell_type": "code",
      "source": [
        "# Create an instance of the neural network\n",
        "input_size = 784\n",
        "hidden_size = 128\n",
        "output_size = 10\n",
        "nn = NeuralNetwork(input_size, hidden_size, output_size)"
      ],
      "metadata": {
        "id": "XPf1a5B1EYfb"
      },
      "execution_count": null,
      "outputs": []
    },
    {
      "cell_type": "code",
      "source": [
        "# Train the neural network\n",
        "nn.train(X_train, y_train, epochs=100, learning_rate=0.1)"
      ],
      "metadata": {
        "id": "SUzty0-3EavO"
      },
      "execution_count": null,
      "outputs": []
    },
    {
      "cell_type": "code",
      "source": [
        "# Make predictions on the test set\n",
        "y_pred = nn.predict(X_test)"
      ],
      "metadata": {
        "id": "elvtLazOEgv4"
      },
      "execution_count": null,
      "outputs": []
    },
    {
      "cell_type": "code",
      "source": [
        "score = accuracy_score(np.argmax(y_test, axis=1), y_pred)\n",
        "print(f\"Accuracy: {score}\")"
      ],
      "metadata": {
        "id": "jo-cnpwFSVgs"
      },
      "execution_count": null,
      "outputs": []
    },
    {
      "cell_type": "code",
      "source": [
        "# Visualize some predictions\n",
        "plt.figure(figsize=(10, 5))\n",
        "for i in range(10):\n",
        "    plt.subplot(2, 5, i + 1)\n",
        "    plt.imshow(X_test[i].reshape(28, 28), cmap='gray')\n",
        "    plt.title(f\"Predicted: {y_pred[i]}\")\n",
        "    plt.axis('off')\n",
        "plt.show()"
      ],
      "metadata": {
        "id": "KzXNlADPTICE"
      },
      "execution_count": null,
      "outputs": []
    }
  ]
}